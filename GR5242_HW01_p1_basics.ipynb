{
  "nbformat": 4,
  "nbformat_minor": 0,
  "metadata": {
    "colab": {
      "provenance": [],
      "collapsed_sections": []
    },
    "kernelspec": {
      "name": "python3",
      "display_name": "Python 3"
    },
    "language_info": {
      "name": "python"
    }
  },
  "cells": [
    {
      "cell_type": "markdown",
      "source": [
        "# GR5242 HW01 Problem 1: Basics\n",
        "\n",
        "**Instructions**: This problem is an individual assignment -- you are to complete this problem on your own, without conferring with your classmates.  You should submit a completed and published notebook to Courseworks; no other files will be accepted.\n",
        "\n",
        "**Description**: The goal of this problem is to get your familiar with neural network training from end to end. \n",
        "\n",
        "Our main tool is `tensorflow`, especially [`tensorflow.keras`](https://www.tensorflow.org/api_docs/python/tf/keras), that helps us with model building and automatic differentiation / backpropagation. \n",
        "\n",
        "There are 4 questions in this notebook, including 3 coding quesitons and 1 text question. Each coding question expects 1~3 lines of codes, and the text question expects just 1 sentence of explanation. "
      ],
      "metadata": {
        "id": "tFg0q5Uxfr3a"
      }
    },
    {
      "cell_type": "code",
      "execution_count": null,
      "metadata": {
        "id": "heFTkqwreWBn"
      },
      "outputs": [],
      "source": [
        "# TensorFlow and tf.keras: run this block first.\n",
        "import tensorflow as tf\n",
        "\n",
        "# Helper libraries\n",
        "import numpy as np\n",
        "import matplotlib.pyplot as plt\n",
        "\n",
        "print(tf.__version__)"
      ]
    },
    {
      "cell_type": "markdown",
      "source": [
        "## Dataset\n",
        "\n",
        "We will working on `mnist` dataset, which contain images of written digits of 0-9 and corresponding labels. "
      ],
      "metadata": {
        "id": "3lxOoXP0jDLr"
      }
    },
    {
      "cell_type": "code",
      "source": [
        "mnist = tf.keras.datasets.mnist\n",
        "\n",
        "(train_images, train_labels), (test_images, test_labels) = mnist.load_data()"
      ],
      "metadata": {
        "id": "cjY9zAOOhIQo"
      },
      "execution_count": null,
      "outputs": []
    },
    {
      "cell_type": "code",
      "source": [
        "train_images.shape, train_labels.shape, test_images.shape, test_labels.shape"
      ],
      "metadata": {
        "id": "KREjcs2ghkFg"
      },
      "execution_count": null,
      "outputs": []
    },
    {
      "cell_type": "markdown",
      "source": [
        "By printing out the shapes, we see there are 60,000 training data and 10,000 test data. Each image is represented as a 28x28 matrix of pixel values, and each label is the corresponding digit. See illustration below. "
      ],
      "metadata": {
        "id": "U12vhTEAjVEh"
      }
    },
    {
      "cell_type": "code",
      "source": [
        "plt.imshow(train_images[41])"
      ],
      "metadata": {
        "id": "upY8cssFhkbU"
      },
      "execution_count": null,
      "outputs": []
    },
    {
      "cell_type": "code",
      "source": [
        "print(train_labels[41])"
      ],
      "metadata": {
        "id": "yByDWMHRjNpV"
      },
      "execution_count": null,
      "outputs": []
    },
    {
      "cell_type": "markdown",
      "source": [
        "Let's rescale the image so that the pixel value is from 0 to 1. "
      ],
      "metadata": {
        "id": "vklyKbJGktZW"
      }
    },
    {
      "cell_type": "code",
      "source": [
        "train_images = train_images / 255.0\n",
        "\n",
        "test_images = test_images / 255.0"
      ],
      "metadata": {
        "id": "u7cl1Vu3j5zu"
      },
      "execution_count": null,
      "outputs": []
    },
    {
      "cell_type": "code",
      "source": [
        "plt.figure(figsize=(10,10))\n",
        "for i in range(25):\n",
        "    plt.subplot(5,5,i+1)\n",
        "    plt.xticks([])\n",
        "    plt.yticks([])\n",
        "    plt.grid(False)\n",
        "    plt.imshow(train_images[i], cmap=plt.cm.binary)\n",
        "    plt.xlabel(train_labels[i])\n",
        "plt.show()"
      ],
      "metadata": {
        "id": "al111BTQkmUf"
      },
      "execution_count": null,
      "outputs": []
    },
    {
      "cell_type": "markdown",
      "source": [
        "## Recap of classification task\n",
        "\n",
        "In a classification task with $K$ classes, suppose the predicted logits for an image are $s_1, \\cdots, s_K$. The predicted probabilities are then \n",
        "\n",
        "$$\\hat p_i = \\frac{\\exp \\{ s_i\\}}{\\sum_{j=1}^K \\exp \\{s_j\\}}, \\text{ for }i=1:K$$\n",
        "\n",
        "The CrossEntropy (CE) loss is defined as \n",
        "\n",
        "$$CE = - \\sum_{i=1}^K t_i \\log (\\hat p_i)$$ \n",
        "\n",
        "where $t_i=1$ if the image belongs to the $i$th class or otherwise $t_i=0$. "
      ],
      "metadata": {
        "id": "N1p2zp4ZmAOC"
      }
    },
    {
      "cell_type": "markdown",
      "source": [
        "## Model\n",
        "\n",
        "Now, we will build a model to predict the logits of images for the classificaiton task. "
      ],
      "metadata": {
        "id": "aYSHF9pSm5uB"
      }
    },
    {
      "cell_type": "markdown",
      "source": [
        "###  Question 1: Building the Model\n",
        "\n",
        "[`tf.keras.model`](https://www.tensorflow.org/api_docs/python/tf/keras/Model) provides a high-level wrapper class for building neural networks. \n",
        "\n",
        "In the following, you need to fill in `tf.keras.Sequential()` to sequentially build up the neural network layers: \n",
        "\n",
        "-  a layer that flattens the image input from the shape `(28,28)` to the one-dimensional shape `(28*28,)`\n",
        "\n",
        "- a fully-connected layer with hidden unit size `128` and followed by `relu` non-linearity (aka the activation function) \n",
        "\n",
        "- a output layer with hidden unit size `10` (note: do not apply non-linearity in the output layer). \n",
        "\n",
        "Here are some useful resources:\n",
        "\n",
        "https://www.tensorflow.org/api_docs/python/tf/keras/layers/Flatten\n",
        "\n",
        "https://www.tensorflow.org/api_docs/python/tf/keras/layers/Dense\n",
        "\n"
      ],
      "metadata": {
        "id": "juqwsT5pmg_x"
      }
    },
    {
      "cell_type": "code",
      "source": [
        "model = tf.keras.Sequential([\n",
        "    ### YOUR CODE HERE ###\n",
        "    ######################\n",
        "])"
      ],
      "metadata": {
        "id": "b0H9dY6RkzQG"
      },
      "execution_count": null,
      "outputs": []
    },
    {
      "cell_type": "markdown",
      "source": [
        "### Question 2: Compling the Model\n",
        "\n",
        "When compling a `keras.model`, typically you need to specify the following three items: \n",
        "\n",
        "- optimizer: specifies a way to apply gradient descent update of model parameters. We will use the [`adam`](https://www.tensorflow.org/api_docs/python/tf/keras/optimizers/Adam) optimizer with the default learning rate in this example. \n",
        "\n",
        "- loss: the objective function to minimize over. In classification task, the cross-entropy loss is used. \n",
        "\n",
        "- metrics: the metrics are used to __evaluate__ the current model's performaning (not for __training__). In classification task, the `accuracy` metric is typically used. \n",
        "\n",
        "Please fill in the `loss` in the following code. [Here](https://www.tensorflow.org/api_docs/python/tf/keras/losses/) is a list of availbale loss functions and their descriptions. \n",
        "\n",
        "Note: remember that the neural network outputs the `logits` instead of the class probabilities (why? answer the question below), and make sure to specify this in the `loss function`.\n"
      ],
      "metadata": {
        "id": "n3V7Haucmwu1"
      }
    },
    {
      "cell_type": "code",
      "source": [
        "model.compile(optimizer='adam',\n",
        "              ### YOUR CODE HERE ###\n",
        "              \n",
        "              ######################\n",
        "              metrics=['accuracy'])"
      ],
      "metadata": {
        "id": "HlxZJV7nlA5h"
      },
      "execution_count": null,
      "outputs": []
    },
    {
      "cell_type": "markdown",
      "source": [
        "### Question 3: The neural network specified above does not output class probabilities, ecause the last layer of the neural network is a linear layer which outputs value ranging from $(-\\infty, \\infty)$.  Your choice of loss function above should take care of that, but what _mathematical_ function maps these logit values to class probabilities?\n",
        "\n",
        "#######################\n",
        "###### YOUR ANSWER HERE\n",
        "#######################"
      ],
      "metadata": {
        "id": "7tohEZ0q7uUl"
      }
    },
    {
      "cell_type": "markdown",
      "source": [
        "## Training\n",
        "\n",
        "Now let's train the model for 10 epochs. By the end of the training, you should expect an accuracy above 0.99. "
      ],
      "metadata": {
        "id": "c-H7Wca-nakt"
      }
    },
    {
      "cell_type": "code",
      "source": [
        "model.fit(train_images, train_labels, epochs=10)"
      ],
      "metadata": {
        "id": "jCsIvUUVlEAA"
      },
      "execution_count": null,
      "outputs": []
    },
    {
      "cell_type": "markdown",
      "source": [
        "## Test Evaluation\n",
        "\n",
        "Finally, we evaluate our model on the test set. You could expect the test accuracy to be slightly lower than the training accuracy. "
      ],
      "metadata": {
        "id": "Ez2L6AmplHtE"
      }
    },
    {
      "cell_type": "code",
      "source": [
        "test_loss, test_acc = model.evaluate(test_images,  test_labels)\n",
        "\n",
        "print('\\nTest accuracy:', test_acc)"
      ],
      "metadata": {
        "id": "obLm4idVlIQx"
      },
      "execution_count": null,
      "outputs": []
    },
    {
      "cell_type": "markdown",
      "source": [
        "### Make Prediction"
      ],
      "metadata": {
        "id": "vta0K8K68-BV"
      }
    },
    {
      "cell_type": "markdown",
      "source": [
        "#### Question 4: fill in the following code block to make predictions on test images. The results should be stored in `predicted_labels`. "
      ],
      "metadata": {
        "id": "nN3zdNTU_SPe"
      }
    },
    {
      "cell_type": "code",
      "source": [
        "### YOUR CODE HERE ###\n",
        "#####################"
      ],
      "metadata": {
        "id": "c-dHkS0Ylei9"
      },
      "execution_count": null,
      "outputs": []
    },
    {
      "cell_type": "markdown",
      "source": [
        "You can verify your prediction by comparing its accuracy to the test accuracy calculated above -- they should be the same. "
      ],
      "metadata": {
        "id": "ESpk4cK3_2vL"
      }
    },
    {
      "cell_type": "code",
      "source": [
        "test_acc2 = (predicted_labels == test_labels).sum() /test_labels.shape[0]\n",
        "assert (test_acc2 - test_acc) < 1e-3"
      ],
      "metadata": {
        "id": "2jITlq7K9hnD"
      },
      "execution_count": null,
      "outputs": []
    },
    {
      "cell_type": "code",
      "source": [],
      "metadata": {
        "id": "DXpyWleglsjh"
      },
      "execution_count": null,
      "outputs": []
    }
  ]
}