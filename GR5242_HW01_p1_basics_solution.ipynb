{
  "cells": [
    {
      "cell_type": "markdown",
      "metadata": {
        "id": "tFg0q5Uxfr3a"
      },
      "source": [
        "# GR5242 HW01 Problem 1: Basics\n",
        "\n",
        "**Instructions**: This problem is an individual assignment -- you are to complete this problem on your own, without conferring with your classmates.  You should submit a completed and published notebook to Courseworks; no other files will be accepted.\n",
        "\n",
        "**Description**: The goal of this problem is to get your familiar with neural network training from end to end. \n",
        "\n",
        "Our main tool is `tensorflow`, especially [`tensorflow.keras`](https://www.tensorflow.org/api_docs/python/tf/keras), that helps us with model building and automatic differentiation / backpropagation. \n",
        "\n",
        "There are 4 questions in this notebook, including 3 coding quesitons and 1 text question. Each coding question expects 1~3 lines of codes, and the text question expects just 1 sentence of explanation. "
      ]
    },
    {
      "cell_type": "code",
      "execution_count": 1,
      "metadata": {
        "colab": {
          "base_uri": "https://localhost:8080/"
        },
        "id": "heFTkqwreWBn",
        "outputId": "358d03c2-9e36-432f-90c0-67f4bd40b82c"
      },
      "outputs": [
        {
          "name": "stdout",
          "output_type": "stream",
          "text": [
            "2.8.2\n"
          ]
        }
      ],
      "source": [
        "# TensorFlow and tf.keras: run this block first.\n",
        "import tensorflow as tf\n",
        "\n",
        "# Helper libraries\n",
        "import numpy as np\n",
        "import matplotlib.pyplot as plt\n",
        "\n",
        "print(tf.__version__)"
      ]
    },
    {
      "cell_type": "markdown",
      "metadata": {
        "id": "3lxOoXP0jDLr"
      },
      "source": [
        "## Dataset\n",
        "\n",
        "We will working on `mnist` dataset, which contain images of written digits of 0-9 and corresponding labels. "
      ]
    },
    {
      "cell_type": "code",
      "execution_count": 2,
      "metadata": {
        "colab": {
          "base_uri": "https://localhost:8080/"
        },
        "id": "cjY9zAOOhIQo",
        "outputId": "f221f772-67e6-4b02-c2ae-28bb1eb81264"
      },
      "outputs": [
        {
          "name": "stdout",
          "output_type": "stream",
          "text": [
            "Downloading data from https://storage.googleapis.com/tensorflow/tf-keras-datasets/mnist.npz\n",
            "11493376/11490434 [==============================] - 0s 0us/step\n",
            "11501568/11490434 [==============================] - 0s 0us/step\n"
          ]
        }
      ],
      "source": [
        "mnist = tf.keras.datasets.mnist\n",
        "\n",
        "(train_images, train_labels), (test_images, test_labels) = mnist.load_data()"
      ]
    },
    {
      "cell_type": "code",
      "execution_count": 3,
      "metadata": {
        "colab": {
          "base_uri": "https://localhost:8080/"
        },
        "id": "KREjcs2ghkFg",
        "outputId": "4b8754a8-b478-4edc-8086-acb235e8f9e7"
      },
      "outputs": [
        {
          "data": {
            "text/plain": [
              "((60000, 28, 28), (60000,), (10000, 28, 28), (10000,))"
            ]
          },
          "execution_count": 3,
          "metadata": {},
          "output_type": "execute_result"
        }
      ],
      "source": [
        "train_images.shape, train_labels.shape, test_images.shape, test_labels.shape"
      ]
    },
    {
      "cell_type": "markdown",
      "metadata": {
        "id": "U12vhTEAjVEh"
      },
      "source": [
        "By printing out the shapes, we see there are 60,000 training data and 10,000 test data. Each image is represented as a 28x28 matrix of pixel values, and each label is the corresponding digit. See illustration below. "
      ]
    },
    {
      "cell_type": "code",
      "execution_count": 4,
      "metadata": {
        "colab": {
          "base_uri": "https://localhost:8080/",
          "height": 283
        },
        "id": "upY8cssFhkbU",
        "outputId": "49fdb0d2-3e07-4953-faad-5cccd79f2a21"
      },
      "outputs": [
        {
          "data": {
            "text/plain": [
              "<matplotlib.image.AxesImage at 0x7ff860b230d0>"
            ]
          },
          "execution_count": 4,
          "metadata": {},
          "output_type": "execute_result"
        },
        {
          "data": {
            "image/png": "[encoded data removed]",
            "text/plain": [
              "<Figure size 432x288 with 1 Axes>"
            ]
          },
          "metadata": {
            "needs_background": "light"
          },
          "output_type": "display_data"
        }
      ],
      "source": [
        "plt.imshow(train_images[41])"
      ]
    },
    {
      "cell_type": "code",
      "execution_count": 5,
      "metadata": {
        "colab": {
          "base_uri": "https://localhost:8080/"
        },
        "id": "yByDWMHRjNpV",
        "outputId": "bb58649d-3d25-4fb1-afba-7fb72403b790"
      },
      "outputs": [
        {
          "name": "stdout",
          "output_type": "stream",
          "text": [
            "8\n"
          ]
        }
      ],
      "source": [
        "print(train_labels[41])"
      ]
    },
    {
      "cell_type": "markdown",
      "metadata": {
        "id": "vklyKbJGktZW"
      },
      "source": [
        "Let's rescale the image so that the pixel value is from 0 to 1. "
      ]
    },
    {
      "cell_type": "code",
      "execution_count": 6,
      "metadata": {
        "id": "u7cl1Vu3j5zu"
      },
      "outputs": [],
      "source": [
        "train_images = train_images / 255.0\n",
        "\n",
        "test_images = test_images / 255.0"
      ]
    },
    {
      "cell_type": "code",
      "execution_count": 7,
      "metadata": {
        "colab": {
          "base_uri": "https://localhost:8080/",
          "height": 589
        },
        "id": "al111BTQkmUf",
        "outputId": "e304b3d7-14b4-4932-e812-5076b0f879df"
      },
      "outputs": [
        {
          "data": {
            "image/png": "[encoded data removed]",
            "text/plain": [
              "<Figure size 720x720 with 25 Axes>"
            ]
          },
          "metadata": {},
          "output_type": "display_data"
        }
      ],
      "source": [
        "plt.figure(figsize=(10,10))\n",
        "for i in range(25):\n",
        "    plt.subplot(5,5,i+1)\n",
        "    plt.xticks([])\n",
        "    plt.yticks([])\n",
        "    plt.grid(False)\n",
        "    plt.imshow(train_images[i], cmap=plt.cm.binary)\n",
        "    plt.xlabel(train_labels[i])\n",
        "plt.show()"
      ]
    },
    {
      "cell_type": "markdown",
      "metadata": {
        "id": "N1p2zp4ZmAOC"
      },
      "source": [
        "## Recap of classification task\n",
        "\n",
        "In a classification task with $K$ classes, suppose the predicted logits for an image are $s_1, \\cdots, s_K$. The predicted probabilities are then \n",
        "\n",
        "$$\\hat p_i = \\frac{\\exp \\{ s_i\\}}{\\sum_{j=1}^K \\exp \\{s_j\\}}, \\text{ for }i=1:K$$\n",
        "\n",
        "The CrossEntropy (CE) loss is defined as \n",
        "\n",
        "$$CE = - \\sum_{i=1}^K t_i \\log (\\hat p_i)$$ \n",
        "\n",
        "where $t_i=1$ if the image belongs to the $i$th class or otherwise $t_i=0$. "
      ]
    },
    {
      "cell_type": "markdown",
      "metadata": {
        "id": "aYSHF9pSm5uB"
      },
      "source": [
        "## Model\n",
        "\n",
        "Now, we will build a model to predict the logits of images for the classificaiton task. "
      ]
    },
    {
      "cell_type": "markdown",
      "metadata": {
        "id": "juqwsT5pmg_x"
      },
      "source": [
        "###  Question 1: Building the Model\n",
        "\n",
        "[`tf.keras.model`](https://www.tensorflow.org/api_docs/python/tf/keras/Model) provides a high-level wrapper class for building neural networks. \n",
        "\n",
        "In the following, you need to fill in `tf.keras.Sequential()` to sequentially build up the neural network layers: \n",
        "\n",
        "-  a layer that flattens the image input from the shape `(28,28)` to the one-dimensional shape `(28*28,)`\n",
        "\n",
        "- a fully-connected layer with hidden unit size `128` and followed by `relu` non-linearity (aka the activation function) \n",
        "\n",
        "- a output layer with hidden unit size `10` (note: do not apply non-linearity in the output layer). \n",
        "\n",
        "Here are some useful resources:\n",
        "\n",
        "https://www.tensorflow.org/api_docs/python/tf/keras/layers/Flatten\n",
        "\n",
        "https://www.tensorflow.org/api_docs/python/tf/keras/layers/Dense\n",
        "\n"
      ]
    },
    {
      "cell_type": "code",
      "execution_count": 8,
      "metadata": {
        "id": "b0H9dY6RkzQG"
      },
      "outputs": [],
      "source": [
        "model = tf.keras.Sequential([\n",
        "    ### YOUR CODE HERE ###\n",
        "    tf.keras.layers.Flatten(input_shape=(28, 28)),\n",
        "    tf.keras.layers.Dense(128, activation='relu'),\n",
        "    tf.keras.layers.Dense(10)\n",
        "    ######################\n",
        "])"
      ]
    },
    {
      "cell_type": "markdown",
      "metadata": {
        "id": "n3V7Haucmwu1"
      },
      "source": [
        "### Question 2: Compling the Model\n",
        "\n",
        "When compling a `keras.model`, typically you need to specify the following three items: \n",
        "\n",
        "- optimizer: specifies a way to apply gradient descent update of model parameters. We will use the [`adam`](https://www.tensorflow.org/api_docs/python/tf/keras/optimizers/Adam) optimizer with the default learning rate in this example. \n",
        "\n",
        "- loss: the objective function to minimize over. In classification task, the cross-entropy loss is used. \n",
        "\n",
        "- metrics: the metrics are used to __evaluate__ the current model's performaning (not for __training__). In classification task, the `accuracy` metric is typically used. \n",
        "\n",
        "Please fill in the `loss` in the following code. [Here](https://www.tensorflow.org/api_docs/python/tf/keras/losses/) is a list of availbale loss functions and their descriptions. \n",
        "\n",
        "Note: remember that the neural network outputs the `logits` instead of the class probabilities (why? answer the question below), and make sure to specify this in the `loss function`.\n"
      ]
    },
    {
      "cell_type": "code",
      "execution_count": 9,
      "metadata": {
        "id": "HlxZJV7nlA5h"
      },
      "outputs": [],
      "source": [
        "model.compile(optimizer='adam',\n",
        "              ### YOUR CODE HERE ###\n",
        "               loss=tf.keras.losses.SparseCategoricalCrossentropy(from_logits=True),\n",
        "              ######################\n",
        "              metrics=['accuracy'])"
      ]
    },
    {
      "cell_type": "markdown",
      "metadata": {
        "id": "7tohEZ0q7uUl"
      },
      "source": [
        "### Question 3: The neural network specified above does not output class probabilities, ecause the last layer of the neural network is a linear layer which outputs value ranging from $(-\\infty, \\infty)$.  Your choice of loss function above should take care of that, but what _mathematical_ function maps these logit values to class probabilities?\n",
        "\n",
        "#######################\n",
        "###### YOUR ANSWER HERE\n",
        "\n",
        "Denote $\\alpha = (\\alpha_1, \\alpha_2, \\cdots, \\alpha_d)$ as the logit values, where $d$ is the number of units. Denote the corresponding probability values as $p=(p_1, p_2, \\cdots, p_d)$. Then the mathematical function that maps logit values to class probabilities is: \n",
        "\n",
        "$$p_i = \\frac{\\exp \\{\\alpha_i\\}}{\\sum_{j=1}^i \\exp \\{\\alpha_j\\}}, \\qquad i=1,\\cdots, d$$\n",
        "\n",
        "#######################"
      ]
    },
    {
      "cell_type": "markdown",
      "metadata": {
        "id": "c-H7Wca-nakt"
      },
      "source": [
        "## Training\n",
        "\n",
        "Now let's train the model for 10 epochs. By the end of the training, you should expect an accuracy above 0.99. "
      ]
    },
    {
      "cell_type": "code",
      "execution_count": 10,
      "metadata": {
        "colab": {
          "base_uri": "https://localhost:8080/"
        },
        "id": "jCsIvUUVlEAA",
        "outputId": "b73a428d-96eb-452a-ff57-9a06a9bc9674"
      },
      "outputs": [
        {
          "name": "stdout",
          "output_type": "stream",
          "text": [
            "Epoch 1/10\n",
            "1875/1875 [==============================] - 6s 3ms/step - loss: 0.2563 - accuracy: 0.9268\n",
            "Epoch 2/10\n",
            "1875/1875 [==============================] - 4s 2ms/step - loss: 0.1137 - accuracy: 0.9662\n",
            "Epoch 3/10\n",
            "1875/1875 [==============================] - 4s 2ms/step - loss: 0.0790 - accuracy: 0.9767\n",
            "Epoch 4/10\n",
            "1875/1875 [==============================] - 4s 2ms/step - loss: 0.0581 - accuracy: 0.9828\n",
            "Epoch 5/10\n",
            "1875/1875 [==============================] - 5s 3ms/step - loss: 0.0463 - accuracy: 0.9857\n",
            "Epoch 6/10\n",
            "1875/1875 [==============================] - 4s 2ms/step - loss: 0.0362 - accuracy: 0.9886\n",
            "Epoch 7/10\n",
            "1875/1875 [==============================] - 4s 2ms/step - loss: 0.0288 - accuracy: 0.9912\n",
            "Epoch 8/10\n",
            "1875/1875 [==============================] - 4s 2ms/step - loss: 0.0231 - accuracy: 0.9933\n",
            "Epoch 9/10\n",
            "1875/1875 [==============================] - 4s 2ms/step - loss: 0.0193 - accuracy: 0.9939\n",
            "Epoch 10/10\n",
            "1875/1875 [==============================] - 4s 2ms/step - loss: 0.0166 - accuracy: 0.9946\n"
          ]
        },
        {
          "data": {
            "text/plain": [
              "<keras.callbacks.History at 0x7ff860001750>"
            ]
          },
          "execution_count": 10,
          "metadata": {},
          "output_type": "execute_result"
        }
      ],
      "source": [
        "model.fit(train_images, train_labels, epochs=10)"
      ]
    },
    {
      "cell_type": "markdown",
      "metadata": {
        "id": "Ez2L6AmplHtE"
      },
      "source": [
        "## Test Evaluation\n",
        "\n",
        "Finally, we evaluate our model on the test set. You could expect the test accuracy to be slightly lower than the training accuracy. "
      ]
    },
    {
      "cell_type": "code",
      "execution_count": 11,
      "metadata": {
        "colab": {
          "base_uri": "https://localhost:8080/"
        },
        "id": "obLm4idVlIQx",
        "outputId": "a6a3d180-ff61-4cd1-8ac5-ba3808005715"
      },
      "outputs": [
        {
          "name": "stdout",
          "output_type": "stream",
          "text": [
            "313/313 [==============================] - 1s 2ms/step - loss: 0.0773 - accuracy: 0.9789\n",
            "\n",
            "Test accuracy: 0.9789000153541565\n"
          ]
        }
      ],
      "source": [
        "test_loss, test_acc = model.evaluate(test_images,  test_labels)\n",
        "\n",
        "print('\\nTest accuracy:', test_acc)"
      ]
    },
    {
      "cell_type": "markdown",
      "metadata": {
        "id": "vta0K8K68-BV"
      },
      "source": [
        "### Make Prediction"
      ]
    },
    {
      "cell_type": "markdown",
      "metadata": {
        "id": "nN3zdNTU_SPe"
      },
      "source": [
        "#### Question 4: fill in the following code block to make predictions on test images. The results should be stored in `predicted_labels`. "
      ]
    },
    {
      "cell_type": "code",
      "execution_count": 12,
      "metadata": {
        "id": "c-dHkS0Ylei9"
      },
      "outputs": [],
      "source": [
        "### YOUR CODE HERE ###\n",
        "# solution 1\n",
        "probability_model = tf.keras.Sequential([model, \n",
        "                                         tf.keras.layers.Softmax()])\n",
        "predictions = probability_model.predict(test_images)\n",
        "predicted_labels = predictions.argmax(axis=1)\n",
        "# solution 2\n",
        "predicted_logits = model.predict(test_images) \n",
        "predicted_labels = predicted_logits.argmax(axis=1)\n",
        "#####################"
      ]
    },
    {
      "cell_type": "markdown",
      "metadata": {
        "id": "ESpk4cK3_2vL"
      },
      "source": [
        "You can verify your prediction by comparing its accuracy to the test accuracy calculated above -- they should be the same. "
      ]
    },
    {
      "cell_type": "code",
      "execution_count": 13,
      "metadata": {
        "id": "2jITlq7K9hnD"
      },
      "outputs": [],
      "source": [
        "test_acc2 = (predicted_labels == test_labels).sum() /test_labels.shape[0]\n",
        "assert (test_acc2 - test_acc) < 1e-3"
      ]
    },
    {
      "cell_type": "code",
      "execution_count": null,
      "metadata": {
        "id": "DXpyWleglsjh"
      },
      "outputs": [],
      "source": []
    }
  ],
  "metadata": {
    "colab": {
      "collapsed_sections": [],
      "provenance": []
    },
    "kernelspec": {
      "display_name": "Python 3",
      "name": "python3"
    },
    "language_info": {
      "name": "python"
    }
  },
  "nbformat": 4,
  "nbformat_minor": 0
}
